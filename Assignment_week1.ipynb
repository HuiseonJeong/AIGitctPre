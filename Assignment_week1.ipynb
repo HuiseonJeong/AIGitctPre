{
  "nbformat": 4,
  "nbformat_minor": 0,
  "metadata": {
    "colab": {
      "name": "Assignment_week1.ipynb",
      "provenance": [],
      "collapsed_sections": [],
      "authorship_tag": "ABX9TyPW/mw/G2qOAq7ID7XiGkhu",
      "include_colab_link": true
    },
    "kernelspec": {
      "name": "python3",
      "display_name": "Python 3"
    }
  },
  "cells": [
    {
      "cell_type": "markdown",
      "metadata": {
        "id": "view-in-github",
        "colab_type": "text"
      },
      "source": [
        "<a href=\"https://colab.research.google.com/github/HuiseonJeong/AIGitctPre/blob/master/Assignment_week1.ipynb\" target=\"_parent\"><img src=\"https://colab.research.google.com/assets/colab-badge.svg\" alt=\"Open In Colab\"/></a>"
      ]
    },
    {
      "cell_type": "markdown",
      "metadata": {
        "id": "QqKtRjGNmsQw",
        "colab_type": "text"
      },
      "source": [
        "# 🚩Req.Week1\n",
        "인공지능은 현재 많은 제품과 서비스에 적용되어 있습니다. 특히 언어, 음성, 이미지, 자율주행의 분야에서 자주 찾아볼 수 있는데요.\n",
        "시중에 나와있는 다양한 제품들과 서비스 속 적용된 인공지능 기술들에 대해서 분석해 보고 여러분의 흥미를 끄는 기술들은 무엇이 있는지 찾아 보며 여러분 나름의 학습 목표를 세워보시기 바랍니다.\n",
        "\n",
        "앞서 제시해 드린 4가지 분야의 기술을 사용하는 4가지 제품 및 서비스를 찾아 깃헙 마크다운으로 작성하여 url과 여러분의 과제 목차 스크린 캡처를 제출해주세요."
      ]
    },
    {
      "cell_type": "markdown",
      "metadata": {
        "id": "8Vy284bDoH6b",
        "colab_type": "text"
      },
      "source": [
        "## 1. 언어👄\n",
        "### 1) 시중에 나와있는 제품들과 서비스?\n",
        "### 2) 적용된 인공지능 기술?"
      ]
    },
    {
      "cell_type": "markdown",
      "metadata": {
        "id": "a5sXFJGvpLB4",
        "colab_type": "text"
      },
      "source": [
        "## 2. 음성👂🏼\n",
        "### 1) 시중에 나와있는 제품들과 서비스?\n",
        "### 2) 적용된 인공지능 기술?"
      ]
    },
    {
      "cell_type": "markdown",
      "metadata": {
        "id": "75FVbSLKpLqy",
        "colab_type": "text"
      },
      "source": [
        "## 2. 이미지👀\n",
        "### 1) 시중에 나와있는 제품들과 서비스?\n",
        "### 2) 적용된 인공지능 기술?"
      ]
    },
    {
      "cell_type": "markdown",
      "metadata": {
        "id": "RM1nTkktpMGH",
        "colab_type": "text"
      },
      "source": [
        "## 4.자율주행🚗🚕\n",
        "### 1) 시중에 나와있는 제품들과 서비스?\n",
        "### 2) 적용된 인공지능 기술?"
      ]
    }
  ]
}