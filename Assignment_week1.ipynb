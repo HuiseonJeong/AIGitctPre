{
  "nbformat": 4,
  "nbformat_minor": 0,
  "metadata": {
    "colab": {
      "name": "Assignment_week1.ipynb",
      "provenance": [],
      "collapsed_sections": [],
      "authorship_tag": "ABX9TyMPfrqdN6PFDkJCdJ+XU+fA",
      "include_colab_link": true
    },
    "kernelspec": {
      "name": "python3",
      "display_name": "Python 3"
    }
  },
  "cells": [
    {
      "cell_type": "markdown",
      "metadata": {
        "id": "view-in-github",
        "colab_type": "text"
      },
      "source": [
        "<a href=\"https://colab.research.google.com/github/HuiseonJeong/AIGitctPre/blob/master/Assignment_week1.ipynb\" target=\"_parent\"><img src=\"https://colab.research.google.com/assets/colab-badge.svg\" alt=\"Open In Colab\"/></a>"
      ]
    },
    {
      "cell_type": "markdown",
      "metadata": {
        "id": "QqKtRjGNmsQw",
        "colab_type": "text"
      },
      "source": [
        "# 🚩Req.Week1\n",
        "---\n",
        "인공지능은 현재 많은 제품과 서비스에 적용되어 있습니다. 특히 언어, 음성, 이미지, 자율주행의 분야에서 자주 찾아볼 수 있는데요.\n",
        "시중에 나와있는 다양한 제품들과 서비스 속 적용된 인공지능 기술들에 대해서 분석해 보고 여러분의 흥미를 끄는 기술들은 무엇이 있는지 찾아 보며 여러분 나름의 학습 목표를 세워보시기 바랍니다.\n",
        "\n",
        "앞서 제시해 드린 4가지 분야의 기술을 사용하는 4가지 제품 및 서비스를 찾아 깃헙 마크다운으로 작성하여 url과 여러분의 과제 목차 스크린 캡처를 제출해주세요."
      ]
    },
    {
      "cell_type": "markdown",
      "metadata": {
        "id": "8Vy284bDoH6b",
        "colab_type": "text"
      },
      "source": [
        "## 1. 언어👄\n",
        "\n",
        "-  제품 서비스 사례\n",
        "  - 네이버 '파파고'\n",
        "- 적용된 AI기술\n",
        "  - 딥러닝 및 기계번역\n",
        "  - NMT(neural machine translation) :\n",
        "      - 입력 문장을 문장벡터로 변환하는 신경망(encoder)\n",
        "      - 문장벡터에서 번역하는 언어의 문장을 생성하는 신경망(decoder)\n",
        "      - 대규모의 병렬 코퍼스부터 자동으로 학습\n",
        "      - 문장 맥락에 맞는 번역을 하는것이 특징\n",
        "\n",
        "- 💡_기계 번역의 역사_\n",
        "    - rule based MT (Georgetown IBM, ALPAC, METEO) : 1대1 치환\n",
        "    - statistical MT (Statistical MT, Phrase-based, Hiero) : 확률과 통계, 말뭉치\n",
        "    - Neural MT (Neural MT) LSTM, seq2seq : 딥러닝, 다음문장의 예측\n",
        "\n",
        "- ➕ [삼성SDS가 개발한 AI 자연어 이해 학습모델, 한국어 기계독해 평가에서 1위 기록!](https://www.samsungsds.com/global/ko/news/story/1212450_2919.html) : KorQuAD(The Korean Question Answering Dataset)기반의 기계독해(MRC, Machine Reading Comprehension) 자동 질의응답 기술 적용"
      ]
    },
    {
      "cell_type": "markdown",
      "metadata": {
        "id": "a5sXFJGvpLB4",
        "colab_type": "text"
      },
      "source": [
        "## 2. 음성👂🏼\n",
        "- 제품 서비스 사례\n",
        "  - 네이버 '클로바'\n",
        "    - 음성 챗봇, 외국어 사전, 책 읽어주기, 음성예약 서비스, 동영상 더빙, 오디오 컨텐츠, 게임 캐릭터 음성, 미술관 작품소개 등 적용\n",
        "- 적용된 AI기술\n",
        "  - 음성인식 및 음성합성\n",
        "  - HDTS(High-quality DNN Text-to-Speech) : 특정 분야에 필요한 목소리 특성을 살려 최고 품질의 합성음을 만드는 기법\n",
        "  - NES(Natural End-to-End Speech Synthesis) : 특정 분야에 대한 제약 없이, 짧은 녹음 시간 만으로도\n",
        "사람에 가까운 자연스러운 목소리를 제작하여 제공"
      ]
    },
    {
      "cell_type": "markdown",
      "metadata": {
        "id": "75FVbSLKpLqy",
        "colab_type": "text"
      },
      "source": [
        "## 2. 이미지👀\n",
        "- 제품 서비스 사례\n",
        "  - 센스타임(SenseTime-중국)의 'AI 안면인식\n",
        "    - 얼굴인식 출입 통제 솔루션\n",
        "    -![SenseTimeTechnicalCapabilites](assets/SenseTimeTechnicalCapabilites.png)\n",
        "  - 컴퓨터비전 및 딥러닝\n",
        "  - Face Detection\n",
        "  - Facial Feature Point Positioning\n",
        "  - Facial Identity Recognition\n",
        "  - Facial Attributes\n",
        "  - Face Grouping\n",
        "  - Liveness Detection\n",
        "  - Portrait Beautification/Make-up\n",
        "  - Body Feature Point"
      ]
    },
    {
      "cell_type": "markdown",
      "metadata": {
        "id": "RM1nTkktpMGH",
        "colab_type": "text"
      },
      "source": [
        "## 4. 자율주행🚗🚕\n",
        "- 제품 서비스 사례\n",
        "  - 구글 '웨이모'\n",
        "- 적용된 AI기술\n",
        "  - 딥러닝\n",
        "  - 라이다, 레이다, 카메라 등의 센서로부터 얻은 데이터를 가공하여 차량을 제어하는 기술\n",
        "  - 딥러닝 : DNN, CNN\n",
        "  - 물체 검출 : R-CNN, YOLO\n",
        "  - 복합 환경 인식 : semantic segmentation, Clustering, FCN\n",
        "  - End-to-End 딥러닝 기반 자율주행 : CNN\n",
        "- **참고!** \n",
        "  - 🏆2020순위\n",
        "![자율주행차 순위](http://www.autoview.co.kr/picture/world_news/202003191380200_1.jpg)"
      ]
    }
  ]
}